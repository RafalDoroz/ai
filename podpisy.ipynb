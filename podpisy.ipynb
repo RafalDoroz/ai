{
  "nbformat": 4,
  "nbformat_minor": 0,
  "metadata": {
    "colab": {
      "provenance": [],
      "include_colab_link": true
    },
    "kernelspec": {
      "name": "python3",
      "display_name": "Python 3"
    },
    "language_info": {
      "name": "python"
    }
  },
  "cells": [
    {
      "cell_type": "markdown",
      "metadata": {
        "id": "view-in-github",
        "colab_type": "text"
      },
      "source": [
        "<a href=\"https://colab.research.google.com/github/RafalDoroz/ai/blob/main/podpisy.ipynb\" target=\"_parent\"><img src=\"https://colab.research.google.com/assets/colab-badge.svg\" alt=\"Open In Colab\"/></a>"
      ]
    },
    {
      "cell_type": "code",
      "execution_count": 1,
      "metadata": {
        "colab": {
          "base_uri": "https://localhost:8080/",
          "height": 228
        },
        "id": "GphhrDEid3-H",
        "outputId": "b52dfc9a-efce-475d-ba0b-87eb103493de"
      },
      "outputs": [
        {
          "output_type": "stream",
          "name": "stdout",
          "text": [
            "Krok 1: Przygotowanie zbioru danych uczących\n"
          ]
        },
        {
          "output_type": "error",
          "ename": "FileNotFoundError",
          "evalue": "[Errno 2] No such file or directory: 'signatures'",
          "traceback": [
            "\u001b[0;31m---------------------------------------------------------------------------\u001b[0m",
            "\u001b[0;31mFileNotFoundError\u001b[0m                         Traceback (most recent call last)",
            "\u001b[0;32m<ipython-input-1-3cc1446af361>\u001b[0m in \u001b[0;36m<cell line: 17>\u001b[0;34m()\u001b[0m\n\u001b[1;32m     15\u001b[0m \u001b[0muser_ID\u001b[0m \u001b[0;34m=\u001b[0m \u001b[0;34m[\u001b[0m\u001b[0;34m]\u001b[0m\u001b[0;34m\u001b[0m\u001b[0;34m\u001b[0m\u001b[0m\n\u001b[1;32m     16\u001b[0m \u001b[0;34m\u001b[0m\u001b[0m\n\u001b[0;32m---> 17\u001b[0;31m \u001b[0;32mfor\u001b[0m \u001b[0mfilename\u001b[0m \u001b[0;32min\u001b[0m \u001b[0mos\u001b[0m\u001b[0;34m.\u001b[0m\u001b[0mlistdir\u001b[0m\u001b[0;34m(\u001b[0m\u001b[0;34m\"signatures\"\u001b[0m\u001b[0;34m)\u001b[0m\u001b[0;34m:\u001b[0m\u001b[0;34m\u001b[0m\u001b[0;34m\u001b[0m\u001b[0m\n\u001b[0m\u001b[1;32m     18\u001b[0m     \u001b[0;32mwith\u001b[0m \u001b[0mopen\u001b[0m\u001b[0;34m(\u001b[0m\u001b[0mos\u001b[0m\u001b[0;34m.\u001b[0m\u001b[0mpath\u001b[0m\u001b[0;34m.\u001b[0m\u001b[0mjoin\u001b[0m\u001b[0;34m(\u001b[0m\u001b[0;34m\"signatures\"\u001b[0m\u001b[0;34m,\u001b[0m \u001b[0mfilename\u001b[0m\u001b[0;34m)\u001b[0m\u001b[0;34m,\u001b[0m \u001b[0;34m'r'\u001b[0m\u001b[0;34m)\u001b[0m \u001b[0;32mas\u001b[0m \u001b[0mf\u001b[0m\u001b[0;34m:\u001b[0m\u001b[0;34m\u001b[0m\u001b[0;34m\u001b[0m\u001b[0m\n\u001b[1;32m     19\u001b[0m         \u001b[0msig\u001b[0m \u001b[0;34m=\u001b[0m \u001b[0mpd\u001b[0m\u001b[0;34m.\u001b[0m\u001b[0mread_csv\u001b[0m\u001b[0;34m(\u001b[0m\u001b[0mf\u001b[0m\u001b[0;34m)\u001b[0m\u001b[0;34m\u001b[0m\u001b[0;34m\u001b[0m\u001b[0m\n",
            "\u001b[0;31mFileNotFoundError\u001b[0m: [Errno 2] No such file or directory: 'signatures'"
          ]
        }
      ],
      "source": [
        "import pandas as pd\n",
        "import numpy as np\n",
        "import matplotlib.pyplot as plt\n",
        "import os\n",
        "import re\n",
        "from sklearn.tree import DecisionTreeClassifier\n",
        "from sklearn.metrics import accuracy_score, confusion_matrix, ConfusionMatrixDisplay\n",
        "\n",
        "# Program do rozpoznawania podpisów\n",
        "# Celem tego programu jest analiza i klasyfikacja podpisów użytkowników na podstawie danych w formacie TXT.\n",
        "\n",
        "# Krok 1: Przygotowanie zbioru danych uczących\n",
        "print(\"Krok 1: Przygotowanie zbioru danych uczących\")\n",
        "sig_Features = []\n",
        "user_ID = []\n",
        "\n",
        "for filename in os.listdir(\"signatures\"):\n",
        "    with open(os.path.join(\"signatures\", filename), 'r') as f:\n",
        "        sig = pd.read_csv(f)\n",
        "        print(\"Przetwarzanie pliku:\", filename)\n",
        "\n",
        "        # Przetwarzanie danych podpisu\n",
        "        sig = sig.drop(sig.index[[0]])\n",
        "        sig = sig.iloc[:, 0].str.split(' ', expand=True)\n",
        "        sig = sig.astype(str).astype(int)\n",
        "        sig.columns = ['X', 'Y', 'T', 'S', 'Az', 'Al', 'P']\n",
        "\n",
        "        # Ekstrakcja ID użytkownika z nazwy pliku\n",
        "        filename_parts = re.split('S|U|\\.', filename)\n",
        "        user_ID.append(filename_parts[1])\n",
        "\n",
        "        # Obliczenia różnic i prędkości\n",
        "        sig['Y_diff'] = sig['Y'].diff()\n",
        "        sig.iloc[0, -1] = sig.iloc[1, -1]\n",
        "        sig['T_diff'] = sig['T'].diff()\n",
        "        sig.iloc[0, -1] = sig.iloc[1, -1]\n",
        "        sig['Y_vel'] = sig['Y_diff'] / sig['T_diff']\n",
        "        sig.drop(sig[sig['T_diff'] == 0].index, inplace=True)\n",
        "\n",
        "        # Wartości maksymalne i minimalne dla Y_vel\n",
        "        maxValues = sig['Y_vel'].max()\n",
        "        minValues = sig['Y_vel'].min()\n",
        "\n",
        "        # Feature extraction: liczba punktów, max i min wartości Y_vel\n",
        "        sig_Features.append([sig.shape[0], minValues, maxValues])\n",
        "\n",
        "# Krok 2: Tworzenie modelu Decision Tree\n",
        "print(\"\\nKrok 2: Tworzenie modelu Decision Tree\")\n",
        "clf = DecisionTreeClassifier()\n",
        "clf = clf.fit(sig_Features, user_ID)\n",
        "\n",
        "# Krok 3: Testowanie modelu\n",
        "print(\"\\nKrok 3: Testowanie modelu\")\n",
        "test_features = []\n",
        "test_user_ID = []\n",
        "\n",
        "for test_filename in os.listdir(\"signatures\"):\n",
        "    with open(os.path.join(\"signatures\", test_filename), 'r') as f:\n",
        "        test_sig = pd.read_csv(f)\n",
        "        test_sig = test_sig.iloc[:, 0].str.split(' ', expand=True)\n",
        "        test_sig = test_sig.drop(test_sig.index[[0]])\n",
        "        test_sig = test_sig.astype(str).astype(int)\n",
        "        test_sig.columns = ['X', 'Y', 'T', 'S', 'Az', 'Al', 'P']\n",
        "\n",
        "        # Obliczenia różnic i prędkości w danych testowych\n",
        "        test_sig['Y_diff'] = test_sig['Y'].diff()\n",
        "        test_sig.iloc[0, -1] = test_sig.iloc[1, -1]\n",
        "        test_sig['T_diff'] = test_sig['T'].diff()\n",
        "        test_sig.iloc[0, -1] = test_sig.iloc[1, -1]\n",
        "        test_sig['Y_vel'] = test_sig['Y_diff'] / test_sig['T_diff']\n",
        "        test_sig.drop(test_sig[test_sig['T_diff'] == 0].index, inplace=True)\n",
        "\n",
        "        # Ekstrakcja cech z danych testowych\n",
        "        test_maxValues = test_sig['Y_vel'].max()\n",
        "        test_minValues = test_sig['Y_vel'].min()\n",
        "        test_features.append([test_sig.shape[0], test_minValues, test_maxValues])\n",
        "\n",
        "        # Ekstrakcja ID użytkownika z nazwy pliku\n",
        "        filename_parts = re.split('S|U|\\.', test_filename)\n",
        "        test_user_ID.append(filename_parts[1])\n",
        "\n",
        "# Predykcje na podstawie danych testowych\n",
        "predictions = clf.predict(test_features)\n",
        "\n",
        "# Obliczanie skuteczności\n",
        "accuracy = accuracy_score(test_user_ID, predictions)\n",
        "print(\"\\nSkuteczność modelu: {:.2f}%\".format(accuracy * 100))\n",
        "\n",
        "# Wyświetlanie szczegółowych wyników\n",
        "for i, pred in enumerate(predictions):\n",
        "    print(f\"Plik testowy: {os.listdir('signatures')[i]}, Przewidywany użytkownik: {pred}, Rzeczywisty użytkownik: {test_user_ID[i]}\")\n",
        "\n",
        "# Obliczanie macierzy pomyłek\n",
        "conf_matrix = confusion_matrix(test_user_ID, predictions, labels=np.unique(user_ID))\n",
        "print(\"\\nMacierz pomyłek:\")\n",
        "print(conf_matrix)\n",
        "\n",
        "# Wyświetlanie macierzy pomyłek\n",
        "disp = ConfusionMatrixDisplay(confusion_matrix=conf_matrix, display_labels=np.unique(user_ID))\n",
        "disp.plot(cmap='viridis')\n",
        "plt.title(\"Macierz pomyłek dla klasyfikatora\")\n",
        "plt.show()\n",
        "\n",
        "# Wyświetlanie trzech pierwszych wektorów cech\n",
        "print(\"\\nTrzy pierwsze wektory cech:\")\n",
        "for i in range(min(5, len(sig_Features))):\n",
        "    print(f\"Wektor {i + 1}: Liczba punktów: {sig_Features[i][0]}, Minimalna wartość Y_vel: {sig_Features[i][1]}, Maksymalna wartość Y_vel: {sig_Features[i][2]}\")\n"
      ]
    }
  ]
}