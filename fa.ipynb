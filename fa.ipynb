{
  "nbformat": 4,
  "nbformat_minor": 0,
  "metadata": {
    "colab": {
      "provenance": [],
      "authorship_tag": "ABX9TyOk+g3mgs/vv91COlzrmUkd",
      "include_colab_link": true
    },
    "kernelspec": {
      "name": "python3",
      "display_name": "Python 3"
    },
    "language_info": {
      "name": "python"
    }
  },
  "cells": [
    {
      "cell_type": "markdown",
      "metadata": {
        "id": "view-in-github",
        "colab_type": "text"
      },
      "source": [
        "<a href=\"https://colab.research.google.com/github/RafalDoroz/ai/blob/main/fa.ipynb\" target=\"_parent\"><img src=\"https://colab.research.google.com/assets/colab-badge.svg\" alt=\"Open In Colab\"/></a>"
      ]
    },
    {
      "cell_type": "code",
      "execution_count": null,
      "metadata": {
        "id": "DUDeQ-IKgnga"
      },
      "outputs": [],
      "source": [
        "from scipy.special import expit\n",
        "import matplotlib.pyplot as plt\n",
        "import numpy as np"
      ]
    },
    {
      "cell_type": "code",
      "source": [
        "# sigmoid activation function\n",
        "def sigmoid(z):\n",
        "  return 1.0 / (1 + np.exp(-z))"
      ],
      "metadata": {
        "id": "dd1a0Rfog6t6"
      },
      "execution_count": null,
      "outputs": []
    },
    {
      "cell_type": "code",
      "source": [
        "# tanh activation function\n",
        "def tanh(z):\n",
        "  return (np.exp(z) - np.exp(-z)) / (np.exp(z) + np.exp(-z))"
      ],
      "metadata": {
        "id": "hgPKIJoAg8-r"
      },
      "execution_count": null,
      "outputs": []
    },
    {
      "cell_type": "code",
      "source": [
        "#  ReLU activation function\n",
        "def relu(z):\n",
        "    return np.maximum(0, z)"
      ],
      "metadata": {
        "id": "zZp99dj4g_6r"
      },
      "execution_count": null,
      "outputs": []
    },
    {
      "cell_type": "code",
      "source": [
        "#  leaky_relu activation function\n",
        "def leaky_relu(z, alpha=0.01):\n",
        "  return np.where(z > 0, z, z * alpha)"
      ],
      "metadata": {
        "id": "j4ESYmlVhEgQ"
      },
      "execution_count": null,
      "outputs": []
    },
    {
      "cell_type": "code",
      "source": [
        "# Softmax activation function\n",
        "def softmax(z):\n",
        "    exp_values = np.exp(z)  # Stabilizacja numeryczna\n",
        "    #exp_values = np.exp(z - np.max(z))  # Stabilizacja numeryczna\n",
        "    return exp_values / np.sum(exp_values)"
      ],
      "metadata": {
        "id": "j6WKj3mXhEqJ"
      },
      "execution_count": null,
      "outputs": []
    },
    {
      "cell_type": "code",
      "source": [
        "x = np.linspace(-2,2)\n",
        "print(x)"
      ],
      "metadata": {
        "id": "l9p52aIWhHb9",
        "colab": {
          "base_uri": "https://localhost:8080/"
        },
        "outputId": "20ba7596-de03-4012-fc6e-b3832089037f"
      },
      "execution_count": null,
      "outputs": [
        {
          "output_type": "stream",
          "name": "stdout",
          "text": [
            "[-2.         -1.91836735 -1.83673469 -1.75510204 -1.67346939 -1.59183673\n",
            " -1.51020408 -1.42857143 -1.34693878 -1.26530612 -1.18367347 -1.10204082\n",
            " -1.02040816 -0.93877551 -0.85714286 -0.7755102  -0.69387755 -0.6122449\n",
            " -0.53061224 -0.44897959 -0.36734694 -0.28571429 -0.20408163 -0.12244898\n",
            " -0.04081633  0.04081633  0.12244898  0.20408163  0.28571429  0.36734694\n",
            "  0.44897959  0.53061224  0.6122449   0.69387755  0.7755102   0.85714286\n",
            "  0.93877551  1.02040816  1.10204082  1.18367347  1.26530612  1.34693878\n",
            "  1.42857143  1.51020408  1.59183673  1.67346939  1.75510204  1.83673469\n",
            "  1.91836735  2.        ]\n"
          ]
        }
      ]
    },
    {
      "cell_type": "code",
      "source": [
        "# Kombinacja liniowa w sieci neuronowej\n",
        "w =5  # Przykładowa waga\n",
        "b = -2.0  # Przykładowe przesunięcie"
      ],
      "metadata": {
        "id": "_bYdpEnfhIzJ"
      },
      "execution_count": null,
      "outputs": []
    },
    {
      "cell_type": "code",
      "source": [
        "s = sigmoid(np.dot(x, w) + b)\n",
        "t = tanh(x)\n",
        "# a = h(s,t,2,1,1)\n",
        "print(s)"
      ],
      "metadata": {
        "id": "yOK4XqVwhKm6",
        "colab": {
          "base_uri": "https://localhost:8080/",
          "height": 193
        },
        "outputId": "5c285622-3521-4f98-a7d3-5f964260c391"
      },
      "execution_count": null,
      "outputs": [
        {
          "output_type": "error",
          "ename": "NameError",
          "evalue": "name 'w' is not defined",
          "traceback": [
            "\u001b[0;31m---------------------------------------------------------------------------\u001b[0m",
            "\u001b[0;31mNameError\u001b[0m                                 Traceback (most recent call last)",
            "\u001b[0;32m<ipython-input-8-85e2450a584a>\u001b[0m in \u001b[0;36m<cell line: 1>\u001b[0;34m()\u001b[0m\n\u001b[0;32m----> 1\u001b[0;31m \u001b[0ms\u001b[0m \u001b[0;34m=\u001b[0m \u001b[0msigmoid\u001b[0m\u001b[0;34m(\u001b[0m\u001b[0mnp\u001b[0m\u001b[0;34m.\u001b[0m\u001b[0mdot\u001b[0m\u001b[0;34m(\u001b[0m\u001b[0mx\u001b[0m\u001b[0;34m,\u001b[0m \u001b[0mw\u001b[0m\u001b[0;34m)\u001b[0m \u001b[0;34m+\u001b[0m \u001b[0mb\u001b[0m\u001b[0;34m)\u001b[0m\u001b[0;34m\u001b[0m\u001b[0;34m\u001b[0m\u001b[0m\n\u001b[0m\u001b[1;32m      2\u001b[0m \u001b[0mt\u001b[0m \u001b[0;34m=\u001b[0m \u001b[0mtanh\u001b[0m\u001b[0;34m(\u001b[0m\u001b[0mx\u001b[0m\u001b[0;34m)\u001b[0m\u001b[0;34m\u001b[0m\u001b[0;34m\u001b[0m\u001b[0m\n\u001b[1;32m      3\u001b[0m \u001b[0;31m# a = h(s,t,2,1,1)\u001b[0m\u001b[0;34m\u001b[0m\u001b[0;34m\u001b[0m\u001b[0m\n\u001b[1;32m      4\u001b[0m \u001b[0mprint\u001b[0m\u001b[0;34m(\u001b[0m\u001b[0ms\u001b[0m\u001b[0;34m)\u001b[0m\u001b[0;34m\u001b[0m\u001b[0;34m\u001b[0m\u001b[0m\n",
            "\u001b[0;31mNameError\u001b[0m: name 'w' is not defined"
          ]
        }
      ]
    },
    {
      "cell_type": "code",
      "source": [
        "s1 = sigmoid(np.dot(x, -0.75) + 1.42)   #blue\n",
        "s2 = sigmoid(np.dot(x, -7) + -8)\n",
        "s3 = sigmoid(np.dot(x, 5) + 1)"
      ],
      "metadata": {
        "id": "sUWwleoAhMGm"
      },
      "execution_count": null,
      "outputs": []
    },
    {
      "cell_type": "code",
      "source": [
        "ss = s1+s2+s3\n",
        "przyklad = s1 * 4.69 + 8.11"
      ],
      "metadata": {
        "id": "dXFlThNkhNgT"
      },
      "execution_count": null,
      "outputs": []
    },
    {
      "cell_type": "code",
      "source": [
        "# plt.plot(x,s1)\n",
        "# plt.plot(x,s2)\n",
        "# plt.plot(x,s3)\n",
        "# plt.plot(x,ss)\n",
        "plt.plot(x,przyklad)\n",
        "# plt.plot(x,t)\n",
        "plt.grid()\n",
        "plt.show()"
      ],
      "metadata": {
        "colab": {
          "base_uri": "https://localhost:8080/",
          "height": 430
        },
        "id": "8WKgXmRahPc-",
        "outputId": "1578f2c3-4eb9-4132-ac72-d1611f3bc913"
      },
      "execution_count": null,
      "outputs": [
        {
          "output_type": "display_data",
          "data": {
            "text/plain": [
              "<Figure size 640x480 with 1 Axes>"
            ],
            "image/png": "[encoded data removed]"
          },
          "metadata": {}
        }
      ]
    },
    {
      "cell_type": "code",
      "source": [],
      "metadata": {
        "id": "lj9pJzjPhQ7_"
      },
      "execution_count": null,
      "outputs": []
    }
  ]
}