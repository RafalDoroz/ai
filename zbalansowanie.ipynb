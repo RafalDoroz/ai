{
  "nbformat": 4,
  "nbformat_minor": 0,
  "metadata": {
    "colab": {
      "provenance": [],
      "authorship_tag": "ABX9TyNJZlb1oiQ4+4+KUVrOWnKN",
      "include_colab_link": true
    },
    "kernelspec": {
      "name": "python3",
      "display_name": "Python 3"
    },
    "language_info": {
      "name": "python"
    }
  },
  "cells": [
    {
      "cell_type": "markdown",
      "metadata": {
        "id": "view-in-github",
        "colab_type": "text"
      },
      "source": [
        "<a href=\"https://colab.research.google.com/github/RafalDoroz/ai/blob/main/zbalansowanie.ipynb\" target=\"_parent\"><img src=\"https://colab.research.google.com/assets/colab-badge.svg\" alt=\"Open In Colab\"/></a>"
      ]
    },
    {
      "cell_type": "code",
      "execution_count": 25,
      "metadata": {
        "id": "vzLUEG-34crF"
      },
      "outputs": [],
      "source": [
        "import numpy as np\n",
        "import matplotlib.pyplot as plt\n",
        "from sklearn.datasets import load_iris\n",
        "from sklearn.model_selection import train_test_split\n",
        "from sklearn.linear_model import LogisticRegression\n",
        "from sklearn.metrics import accuracy_score\n",
        "from imblearn.over_sampling import RandomOverSampler\n",
        "import pandas as pd"
      ]
    },
    {
      "cell_type": "code",
      "source": [
        "# Wczytanie zbioru danych Iris\n",
        "data = load_iris()\n",
        "X, y = data.data, data.target"
      ],
      "metadata": {
        "id": "5J2NCD924e7v"
      },
      "execution_count": 26,
      "outputs": []
    },
    {
      "cell_type": "code",
      "source": [
        "# Sztuczne stworzenie niezbalansowanego zbioru danych (np. przez usunięcie części danych klasy 2)\n",
        "indices_class_0 = np.where(y == 0)[0]\n",
        "indices_class_1 = np.where(y == 1)[0]\n",
        "indices_class_2 = np.where(y == 2)[0][:25]  # Zmniejszamy liczbę próbek dla klasy 2\n"
      ],
      "metadata": {
        "id": "iFvQWCDu4gTh"
      },
      "execution_count": 27,
      "outputs": []
    },
    {
      "cell_type": "code",
      "source": [
        "\n",
        "# Nowy, niezbalansowany zbiór danych\n",
        "X_unbalanced = np.vstack((X[indices_class_0], X[indices_class_1], X[indices_class_2]))\n",
        "y_unbalanced = np.hstack((y[indices_class_0], y[indices_class_1], y[indices_class_2]))\n",
        "\n"
      ],
      "metadata": {
        "id": "SanE7UP24v7k"
      },
      "execution_count": 28,
      "outputs": []
    },
    {
      "cell_type": "code",
      "source": [
        "# Podział na dane uczące i testowe\n",
        "X_train, X_test, y_train, y_test = train_test_split(X_unbalanced, y_unbalanced, test_size=0.2, random_state=42)\n",
        "\n"
      ],
      "metadata": {
        "id": "5VGgTKUy4v2b"
      },
      "execution_count": 29,
      "outputs": []
    },
    {
      "cell_type": "code",
      "source": [
        "# Klasyfikacja bez zbalansowania\n",
        "clf_unbalanced = LogisticRegression(max_iter=200)\n",
        "clf_unbalanced.fit(X_train, y_train)\n",
        "y_pred_unbalanced = clf_unbalanced.predict(X_test)\n",
        "accuracy_unbalanced = accuracy_score(y_test, y_pred_unbalanced)\n",
        "\n"
      ],
      "metadata": {
        "id": "Z3SgNmqa4vwu"
      },
      "execution_count": 30,
      "outputs": []
    },
    {
      "cell_type": "code",
      "source": [
        "# Zbalansowanie danych przez oversampling\n",
        "oversampler = RandomOverSampler(random_state=42)\n",
        "X_balanced, y_balanced = oversampler.fit_resample(X_train, y_train)\n",
        "\n"
      ],
      "metadata": {
        "id": "d52yLQ7y4vpR"
      },
      "execution_count": 31,
      "outputs": []
    },
    {
      "cell_type": "code",
      "source": [
        "# Klasyfikacja po zbalansowaniu\n",
        "clf_balanced = LogisticRegression(max_iter=200)\n",
        "clf_balanced.fit(X_balanced, y_balanced)\n",
        "y_pred_balanced = clf_balanced.predict(X_test)\n",
        "accuracy_balanced = accuracy_score(y_test, y_pred_balanced)\n",
        "\n"
      ],
      "metadata": {
        "id": "KuxmKUcj4veb"
      },
      "execution_count": 32,
      "outputs": []
    },
    {
      "cell_type": "code",
      "source": [
        "# Wyniki\n",
        "print(\"Dokładność bez zbalansowania:\", accuracy_unbalanced)\n",
        "print(\"Dokładność po zbalansowaniu:\", accuracy_balanced)\n",
        "\n"
      ],
      "metadata": {
        "colab": {
          "base_uri": "https://localhost:8080/"
        },
        "id": "3AS3_lS447gi",
        "outputId": "64992755-34f0-488d-9b7f-4cea6f1baada"
      },
      "execution_count": 33,
      "outputs": [
        {
          "output_type": "stream",
          "name": "stdout",
          "text": [
            "Dokładność bez zbalansowania: 0.96\n",
            "Dokładność po zbalansowaniu: 1.0\n"
          ]
        }
      ]
    },
    {
      "cell_type": "code",
      "source": [
        "# Wizualizacja rozkładu klas przed i po zbalansowaniu\n",
        "fig, axes = plt.subplots(1, 2, figsize=(12, 5))\n",
        "\n"
      ],
      "metadata": {
        "colab": {
          "base_uri": "https://localhost:8080/",
          "height": 451
        },
        "id": "bJRHC_Fk47dV",
        "outputId": "8ec807bf-9cab-41fd-a969-b8de76a4e550"
      },
      "execution_count": 34,
      "outputs": [
        {
          "output_type": "display_data",
          "data": {
            "text/plain": [
              "<Figure size 1200x500 with 2 Axes>"
            ],
            "image/png": "[encoded data removed]"
          },
          "metadata": {}
        }
      ]
    },
    {
      "cell_type": "code",
      "source": [
        "# Przed zbalansowaniem\n",
        "pd.Series(y_train).value_counts().plot(kind=\"bar\", ax=axes[0], title=\"Rozkład klas przed zbalansowaniem\")\n",
        "axes[0].set_xlabel(\"Klasa\")\n",
        "axes[0].set_ylabel(\"Liczba próbek\")\n",
        "\n"
      ],
      "metadata": {
        "colab": {
          "base_uri": "https://localhost:8080/"
        },
        "id": "52LdC_f547ZB",
        "outputId": "67389104-fda3-49db-86b7-1fc298cac737"
      },
      "execution_count": 35,
      "outputs": [
        {
          "output_type": "execute_result",
          "data": {
            "text/plain": [
              "Text(4.444444444444466, 0.5, 'Liczba próbek')"
            ]
          },
          "metadata": {},
          "execution_count": 35
        }
      ]
    },
    {
      "cell_type": "code",
      "source": [
        "# Po zbalansowaniu\n",
        "pd.Series(y_balanced).value_counts().plot(kind=\"bar\", ax=axes[1], title=\"Rozkład klas po zbalansowaniu\")\n",
        "axes[1].set_xlabel(\"Klasa\")\n",
        "axes[1].set_ylabel(\"Liczba próbek\")\n",
        "\n",
        "plt.show()"
      ],
      "metadata": {
        "id": "S8gDhFsU47Sh"
      },
      "execution_count": 36,
      "outputs": []
    }
  ]
}