{
  "nbformat": 4,
  "nbformat_minor": 0,
  "metadata": {
    "colab": {
      "provenance": [],
      "authorship_tag": "ABX9TyNBtljGXGCXCKIdDw9Hwdep",
      "include_colab_link": true
    },
    "kernelspec": {
      "name": "python3",
      "display_name": "Python 3"
    },
    "language_info": {
      "name": "python"
    }
  },
  "cells": [
    {
      "cell_type": "markdown",
      "metadata": {
        "id": "view-in-github",
        "colab_type": "text"
      },
      "source": [
        "<a href=\"https://colab.research.google.com/github/RafalDoroz/ai/blob/main/cnn/nn_architektury.ipynb\" target=\"_parent\"><img src=\"https://colab.research.google.com/assets/colab-badge.svg\" alt=\"Open In Colab\"/></a>"
      ]
    },
    {
      "cell_type": "code",
      "execution_count": 11,
      "metadata": {
        "colab": {
          "base_uri": "https://localhost:8080/",
          "height": 569
        },
        "id": "QjDPf9XMiUxc",
        "outputId": "be573f15-60c4-44c8-94fd-9b8157b6155a"
      },
      "outputs": [
        {
          "output_type": "stream",
          "name": "stdout",
          "text": [
            "\u001b[1m938/938\u001b[0m \u001b[32m━━━━━━━━━━━━━━━━━━━━\u001b[0m\u001b[37m\u001b[0m \u001b[1m69s\u001b[0m 37ms/step - accuracy: 0.8946 - loss: 0.3550 - val_accuracy: 0.9786 - val_loss: 0.0683\n",
            "\u001b[1m313/313\u001b[0m \u001b[32m━━━━━━━━━━━━━━━━━━━━\u001b[0m\u001b[37m\u001b[0m \u001b[1m2s\u001b[0m 6ms/step - accuracy: 0.9740 - loss: 0.0814\n",
            "Dokładność na zbiorze testowym: 97.86%\n",
            "\n",
            "--- Testowanie pojedynczego obrazu ---\n",
            "Podaj indeks obrazu do przetestowania (0-9999): 1\n",
            "\u001b[1m1/1\u001b[0m \u001b[32m━━━━━━━━━━━━━━━━━━━━\u001b[0m\u001b[37m\u001b[0m \u001b[1m0s\u001b[0m 70ms/step\n"
          ]
        },
        {
          "output_type": "display_data",
          "data": {
            "text/plain": [
              "<Figure size 640x480 with 1 Axes>"
            ],
            "image/png": "[encoded data removed]"
          },
          "metadata": {}
        }
      ],
      "source": [
        "import tensorflow as tf\n",
        "from tensorflow.keras import Sequential\n",
        "from tensorflow.keras.layers import Conv2D, MaxPooling2D, Flatten, Dense\n",
        "from tensorflow.keras.datasets import mnist\n",
        "from tensorflow.keras.utils import to_categorical\n",
        "import matplotlib.pyplot as plt\n",
        "import numpy as np\n",
        "\n",
        "# Wczytanie i przygotowanie danych MNIST\n",
        "def load_data():\n",
        "    (X_train, y_train), (X_test, y_test) = mnist.load_data()\n",
        "    X_train = X_train.reshape(-1, 28, 28, 1).astype('float32') / 255.0\n",
        "    X_test = X_test.reshape(-1, 28, 28, 1).astype('float32') / 255.0\n",
        "    y_train = to_categorical(y_train, 10)\n",
        "    y_test = to_categorical(y_test, 10)\n",
        "    return X_train, y_train, X_test, y_test\n",
        "\n",
        "# Tworzenie modelu\n",
        "def create_model():\n",
        "    model = Sequential()\n",
        "\n",
        "    # Wybierz architekturę, odkomentowując odpowiedni fragment:\n",
        "\n",
        "    # Architektura 1: Jedna warstwa konwolucyjna\n",
        "    model.add(Conv2D(32, (3, 3), activation='relu', input_shape=(28, 28, 1)))\n",
        "    model.add(MaxPooling2D(pool_size=(2, 2)))\n",
        "\n",
        "    # Architektura 2: Dwie warstwy konwolucyjne\n",
        "    # model.add(Conv2D(32, (3, 3), activation='relu', input_shape=(28, 28, 1)))\n",
        "    # model.add(MaxPooling2D(pool_size=(2, 2)))\n",
        "    # model.add(Conv2D(64, (3, 3), activation='relu'))\n",
        "    # model.add(MaxPooling2D(pool_size=(2, 2)))\n",
        "\n",
        "    # Architektura 3: Trzy warstwy konwolucyjne\n",
        "    # model.add(Conv2D(32, (3, 3), activation='relu', input_shape=(28, 28, 1)))\n",
        "    # model.add(MaxPooling2D(pool_size=(2, 2)))\n",
        "    # model.add(Conv2D(64, (3, 3), activation='relu'))\n",
        "    # model.add(MaxPooling2D(pool_size=(2, 2)))\n",
        "    # model.add(Conv2D(128, (3, 3), activation='relu'))\n",
        "\n",
        "    # Warstwy gęste i wyjściowa\n",
        "    model.add(Flatten())\n",
        "    model.add(Dense(128, activation='relu'))\n",
        "    model.add(Dense(10, activation='softmax'))\n",
        "    return model\n",
        "\n",
        "# Testowanie jednego obrazu\n",
        "def test_single_image(model, X_test, y_test):\n",
        "    print(\"\\n--- Testowanie pojedynczego obrazu ---\")\n",
        "    index = int(input(\"Podaj indeks obrazu do przetestowania (0-9999): \"))\n",
        "\n",
        "    # Pobranie obrazu i prawdziwej etykiety\n",
        "    image = X_test[index]\n",
        "    true_label = np.argmax(y_test[index])\n",
        "\n",
        "    # Przewidywanie etykiety\n",
        "    prediction = model.predict(image[np.newaxis, ...])\n",
        "    predicted_label = np.argmax(prediction)\n",
        "\n",
        "    # Wyświetlenie obrazu i wyników\n",
        "    plt.imshow(image.squeeze(), cmap='gray')\n",
        "    plt.title(f\"Prawdziwa etykieta: {true_label}, Przewidziana: {predicted_label}\")\n",
        "    plt.axis('off')\n",
        "    plt.show()\n",
        "\n",
        "# Główna funkcja\n",
        "def main():\n",
        "    # Wczytanie danych\n",
        "    X_train, y_train, X_test, y_test = load_data()\n",
        "\n",
        "    # Tworzenie i kompilacja modelu\n",
        "    model = create_model()\n",
        "    model.compile(optimizer='adam', loss='categorical_crossentropy', metrics=['accuracy'])\n",
        "\n",
        "    # Trenowanie modelu\n",
        "    model.fit(X_train, y_train, epochs=1, batch_size=64, validation_data=(X_test, y_test))\n",
        "\n",
        "    # Ocena modelu\n",
        "    loss, accuracy = model.evaluate(X_test, y_test)\n",
        "    print(f\"Dokładność na zbiorze testowym: {accuracy * 100:.2f}%\")\n",
        "\n",
        "    # Testowanie jednego obrazu\n",
        "    test_single_image(model, X_test, y_test)\n",
        "\n",
        "# Uruchomienie programu\n",
        "if __name__ == \"__main__\":\n",
        "    main()\n"
      ]
    }
  ]
}