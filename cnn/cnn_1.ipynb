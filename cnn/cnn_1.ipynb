{
  "nbformat": 4,
  "nbformat_minor": 0,
  "metadata": {
    "colab": {
      "provenance": [],
      "authorship_tag": "ABX9TyMIJmNNNr9bus6gKFyK31Ad",
      "include_colab_link": true
    },
    "kernelspec": {
      "name": "python3",
      "display_name": "Python 3"
    },
    "language_info": {
      "name": "python"
    }
  },
  "cells": [
    {
      "cell_type": "markdown",
      "metadata": {
        "id": "view-in-github",
        "colab_type": "text"
      },
      "source": [
        "<a href=\"https://colab.research.google.com/github/RafalDoroz/ai/blob/main/cnn_1.ipynb\" target=\"_parent\"><img src=\"https://colab.research.google.com/assets/colab-badge.svg\" alt=\"Open In Colab\"/></a>"
      ]
    },
    {
      "cell_type": "code",
      "execution_count": 2,
      "metadata": {
        "colab": {
          "base_uri": "https://localhost:8080/",
          "height": 708
        },
        "id": "zEv-L0lw-kQP",
        "outputId": "df9b8447-b708-41c5-e404-f4167c8ad96a"
      },
      "outputs": [
        {
          "output_type": "stream",
          "name": "stderr",
          "text": [
            "/usr/local/lib/python3.10/dist-packages/keras/src/layers/convolutional/base_conv.py:107: UserWarning: Do not pass an `input_shape`/`input_dim` argument to a layer. When using Sequential models, prefer using an `Input(shape)` object as the first layer in the model instead.\n",
            "  super().__init__(activity_regularizer=activity_regularizer, **kwargs)\n"
          ]
        },
        {
          "output_type": "stream",
          "name": "stdout",
          "text": [
            "Epoch 1/5\n",
            "\u001b[1m1875/1875\u001b[0m \u001b[32m━━━━━━━━━━━━━━━━━━━━\u001b[0m\u001b[37m\u001b[0m \u001b[1m44s\u001b[0m 23ms/step - accuracy: 0.9081 - loss: 0.3018\n",
            "Epoch 2/5\n",
            "\u001b[1m1875/1875\u001b[0m \u001b[32m━━━━━━━━━━━━━━━━━━━━\u001b[0m\u001b[37m\u001b[0m \u001b[1m82s\u001b[0m 23ms/step - accuracy: 0.9839 - loss: 0.0523\n",
            "Epoch 3/5\n",
            "\u001b[1m1875/1875\u001b[0m \u001b[32m━━━━━━━━━━━━━━━━━━━━\u001b[0m\u001b[37m\u001b[0m \u001b[1m83s\u001b[0m 24ms/step - accuracy: 0.9906 - loss: 0.0320\n",
            "Epoch 4/5\n",
            "\u001b[1m1875/1875\u001b[0m \u001b[32m━━━━━━━━━━━━━━━━━━━━\u001b[0m\u001b[37m\u001b[0m \u001b[1m42s\u001b[0m 22ms/step - accuracy: 0.9933 - loss: 0.0205\n",
            "Epoch 5/5\n",
            "\u001b[1m1875/1875\u001b[0m \u001b[32m━━━━━━━━━━━━━━━━━━━━\u001b[0m\u001b[37m\u001b[0m \u001b[1m82s\u001b[0m 23ms/step - accuracy: 0.9964 - loss: 0.0121\n",
            "\u001b[1m313/313\u001b[0m \u001b[32m━━━━━━━━━━━━━━━━━━━━\u001b[0m\u001b[37m\u001b[0m \u001b[1m2s\u001b[0m 7ms/step - accuracy: 0.9824 - loss: 0.0658\n",
            "Dokładność na zbiorze testowym: 98.47%\n",
            "\u001b[1m1/1\u001b[0m \u001b[32m━━━━━━━━━━━━━━━━━━━━\u001b[0m\u001b[37m\u001b[0m \u001b[1m0s\u001b[0m 98ms/step\n"
          ]
        },
        {
          "output_type": "display_data",
          "data": {
            "text/plain": [
              "<Figure size 640x480 with 1 Axes>"
            ],
            "image/png": "[encoded data removed]"
          },
          "metadata": {}
        }
      ],
      "source": [
        "import tensorflow as tf\n",
        "from tensorflow.keras import Sequential\n",
        "from tensorflow.keras.layers import Conv2D, MaxPooling2D, Flatten, Dense\n",
        "from tensorflow.keras.datasets import mnist\n",
        "from tensorflow.keras.utils import to_categorical\n",
        "import matplotlib.pyplot as plt\n",
        "import numpy as np\n",
        "from PIL import Image\n",
        "\n",
        "# 1. Wczytaj dane MNIST\n",
        "(X_train, y_train), (X_test, y_test) = mnist.load_data()\n",
        "\n",
        "# 2. Przetwórz dane\n",
        "X_train = X_train.reshape(-1, 28, 28, 1).astype('float32') / 255.0  # Normalizacja\n",
        "X_test = X_test.reshape(-1, 28, 28, 1).astype('float32') / 255.0    # Normalizacja\n",
        "y_train = to_categorical(y_train, 10)  # One-hot encoding etykiet\n",
        "y_test = to_categorical(y_test, 10)    # One-hot encoding etykiet\n",
        "\n",
        "# 3. Zbuduj najprostszą sieć CNN\n",
        "model = Sequential([\n",
        "    Conv2D(32, (3, 3), activation='relu', input_shape=(28, 28, 1)),  # Warstwa konwolucyjna\n",
        "    MaxPooling2D(pool_size=(2, 2)),                                  # Warstwa maksymalnego spooling'u\n",
        "    Flatten(),                                                       # Spłaszczenie\n",
        "    Dense(128, activation='relu'),                                   # Warstwa w pełni połączona\n",
        "    Dense(10, activation='softmax')                                  # Warstwa wyjściowa (10 klas)\n",
        "])\n",
        "\n",
        "# 4. Kompilacja modelu\n",
        "model.compile(optimizer='adam', loss='categorical_crossentropy', metrics=['accuracy'])\n",
        "\n",
        "# 5. Trenowanie modelu\n",
        "model.fit(X_train, y_train, epochs=5, batch_size=32)\n",
        "\n",
        "# 6. Ewaluacja modelu\n",
        "loss, accuracy = model.evaluate(X_test, y_test)\n",
        "print(f\"Dokładność na zbiorze testowym: {accuracy * 100:.2f}%\")\n",
        "\n",
        "# 7. Testowanie pojedynczego obrazu\n",
        "def test_single_image(image_path):\n",
        "    # Wczytaj obraz i przetwórz go\n",
        "    img = Image.open(image_path).convert('L')  # Konwersja do skali szarości\n",
        "    img = img.resize((28, 28))                 # Zmiana rozmiaru na 28x28\n",
        "    img_array = np.array(img).astype('float32') / 255.0  # Normalizacja\n",
        "    img_array = img_array.reshape(1, 28, 28, 1)          # Dopasowanie wymiarów\n",
        "\n",
        "    # Przewidywanie klasy\n",
        "    prediction = model.predict(img_array)\n",
        "    predicted_class = np.argmax(prediction)\n",
        "\n",
        "    # Wyświetlenie obrazu i wyniku\n",
        "    plt.imshow(img, cmap='gray')\n",
        "    plt.title(f\"Przewidywana klasa: {predicted_class}\")\n",
        "    plt.axis('off')\n",
        "    plt.show()\n",
        "\n",
        "# Wywołanie funkcji testującej\n",
        "image_path = \"Images/sample_image.png\"  # Podaj ścieżkę do obrazu testowego\n",
        "test_single_image(image_path)\n"
      ]
    }
  ]
}