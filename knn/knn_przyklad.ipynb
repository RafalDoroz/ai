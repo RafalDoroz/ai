{
  "nbformat": 4,
  "nbformat_minor": 0,
  "metadata": {
    "colab": {
      "provenance": [],
      "authorship_tag": "ABX9TyNhLJC0UcW6CZcoJV/D17yz",
      "include_colab_link": true
    },
    "kernelspec": {
      "name": "python3",
      "display_name": "Python 3"
    },
    "language_info": {
      "name": "python"
    }
  },
  "cells": [
    {
      "cell_type": "markdown",
      "metadata": {
        "id": "view-in-github",
        "colab_type": "text"
      },
      "source": [
        "<a href=\"https://colab.research.google.com/github/RafalDoroz/ai/blob/main/knn_przyklad.ipynb\" target=\"_parent\"><img src=\"https://colab.research.google.com/assets/colab-badge.svg\" alt=\"Open In Colab\"/></a>"
      ]
    },
    {
      "cell_type": "code",
      "execution_count": 1,
      "metadata": {
        "colab": {
          "base_uri": "https://localhost:8080/",
          "height": 1000
        },
        "id": "XGQ1Xpk8CJhk",
        "outputId": "89826f12-6367-4ffa-b69e-73da03fc4d0b"
      },
      "outputs": [
        {
          "output_type": "stream",
          "name": "stdout",
          "text": [
            "Downloading data from https://storage.googleapis.com/tensorflow/tf-keras-datasets/mnist.npz\n",
            "\u001b[1m11490434/11490434\u001b[0m \u001b[32m━━━━━━━━━━━━━━━━━━━━\u001b[0m\u001b[37m\u001b[0m \u001b[1m0s\u001b[0m 0us/step\n"
          ]
        },
        {
          "output_type": "display_data",
          "data": {
            "text/plain": [
              "<Figure size 640x480 with 1 Axes>"
            ],
            "image/png": "[encoded data removed]"
          },
          "metadata": {}
        },
        {
          "output_type": "stream",
          "name": "stderr",
          "text": [
            "/usr/local/lib/python3.10/dist-packages/keras/src/layers/reshaping/flatten.py:37: UserWarning: Do not pass an `input_shape`/`input_dim` argument to a layer. When using Sequential models, prefer using an `Input(shape)` object as the first layer in the model instead.\n",
            "  super().__init__(**kwargs)\n"
          ]
        },
        {
          "output_type": "stream",
          "name": "stdout",
          "text": [
            "Epoch 1/5\n",
            "\u001b[1m1688/1688\u001b[0m \u001b[32m━━━━━━━━━━━━━━━━━━━━\u001b[0m\u001b[37m\u001b[0m \u001b[1m12s\u001b[0m 6ms/step - accuracy: 0.8742 - loss: 0.4383 - val_accuracy: 0.9687 - val_loss: 0.1096\n",
            "Epoch 2/5\n",
            "\u001b[1m1688/1688\u001b[0m \u001b[32m━━━━━━━━━━━━━━━━━━━━\u001b[0m\u001b[37m\u001b[0m \u001b[1m10s\u001b[0m 6ms/step - accuracy: 0.9657 - loss: 0.1143 - val_accuracy: 0.9702 - val_loss: 0.1001\n",
            "Epoch 3/5\n",
            "\u001b[1m1688/1688\u001b[0m \u001b[32m━━━━━━━━━━━━━━━━━━━━\u001b[0m\u001b[37m\u001b[0m \u001b[1m9s\u001b[0m 5ms/step - accuracy: 0.9781 - loss: 0.0725 - val_accuracy: 0.9752 - val_loss: 0.0797\n",
            "Epoch 4/5\n",
            "\u001b[1m1688/1688\u001b[0m \u001b[32m━━━━━━━━━━━━━━━━━━━━\u001b[0m\u001b[37m\u001b[0m \u001b[1m10s\u001b[0m 5ms/step - accuracy: 0.9833 - loss: 0.0532 - val_accuracy: 0.9765 - val_loss: 0.0847\n",
            "Epoch 5/5\n",
            "\u001b[1m1688/1688\u001b[0m \u001b[32m━━━━━━━━━━━━━━━━━━━━\u001b[0m\u001b[37m\u001b[0m \u001b[1m10s\u001b[0m 6ms/step - accuracy: 0.9877 - loss: 0.0393 - val_accuracy: 0.9765 - val_loss: 0.0818\n",
            "\u001b[1m313/313\u001b[0m \u001b[32m━━━━━━━━━━━━━━━━━━━━\u001b[0m\u001b[37m\u001b[0m \u001b[1m1s\u001b[0m 2ms/step - accuracy: 0.9696 - loss: 0.0988\n",
            "Dokładność na danych testowych: 97.37%\n",
            "\u001b[1m1/1\u001b[0m \u001b[32m━━━━━━━━━━━━━━━━━━━━\u001b[0m\u001b[37m\u001b[0m \u001b[1m0s\u001b[0m 94ms/step\n"
          ]
        },
        {
          "output_type": "display_data",
          "data": {
            "text/plain": [
              "<Figure size 640x480 with 1 Axes>"
            ],
            "image/png": "[encoded data removed]"
          },
          "metadata": {}
        }
      ],
      "source": [
        "import tensorflow as tf\n",
        "from tensorflow.keras import Sequential\n",
        "from tensorflow.keras.layers import Dense, Flatten\n",
        "from tensorflow.keras.datasets import mnist\n",
        "import matplotlib.pyplot as plt\n",
        "\n",
        "# 1. Wczytanie i przygotowanie danych MNIST\n",
        "(X_train, y_train), (X_test, y_test) = mnist.load_data()\n",
        "\n",
        "# Normalizacja danych (0-255 -> 0-1)\n",
        "X_train = X_train / 255.0\n",
        "X_test = X_test / 255.0\n",
        "\n",
        "# Wyświetlenie przykładowego obrazu\n",
        "plt.imshow(X_train[0], cmap='gray')\n",
        "plt.title(f\"Przykładowa cyfra: {y_train[0]}\")\n",
        "plt.axis('off')\n",
        "plt.show()\n",
        "\n",
        "# 2. Tworzenie modelu sieci neuronowej\n",
        "model = Sequential([\n",
        "    Flatten(input_shape=(28, 28)),  # Spłaszczenie obrazu 28x28 do wektora 784-elementowego\n",
        "    Dense(128, activation='relu'), # Warstwa ukryta z 128 neuronami\n",
        "    Dense(64, activation='relu'),  # Warstwa ukryta z 64 neuronami\n",
        "    Dense(10, activation='softmax') # Warstwa wyjściowa z 10 neuronami (dla klas 0-9)\n",
        "])\n",
        "\n",
        "# 3. Kompilacja modelu\n",
        "model.compile(optimizer='adam',\n",
        "              loss='sparse_categorical_crossentropy',\n",
        "              metrics=['accuracy'])\n",
        "\n",
        "# 4. Trenowanie modelu\n",
        "history = model.fit(X_train, y_train, epochs=5, batch_size=32, validation_split=0.1)\n",
        "\n",
        "# 5. Ewaluacja modelu\n",
        "loss, accuracy = model.evaluate(X_test, y_test)\n",
        "print(f\"Dokładność na danych testowych: {accuracy * 100:.2f}%\")\n",
        "\n",
        "# 6. Przykładowe przewidywanie\n",
        "sample_image = X_test[0]\n",
        "prediction = model.predict(sample_image.reshape(1, 28, 28))\n",
        "predicted_class = prediction.argmax()\n",
        "\n",
        "# Wyświetlenie przewidywania\n",
        "plt.imshow(sample_image, cmap='gray')\n",
        "plt.title(f\"Przewidywana cyfra: {predicted_class}\")\n",
        "plt.axis('off')\n",
        "plt.show()\n"
      ]
    }
  ]
}