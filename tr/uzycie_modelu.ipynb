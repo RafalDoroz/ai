{
  "nbformat": 4,
  "nbformat_minor": 0,
  "metadata": {
    "colab": {
      "provenance": [],
      "authorship_tag": "ABX9TyPqk+FQLer4NUYGkVpN6EBL",
      "include_colab_link": true
    },
    "kernelspec": {
      "name": "python3",
      "display_name": "Python 3"
    },
    "language_info": {
      "name": "python"
    }
  },
  "cells": [
    {
      "cell_type": "markdown",
      "metadata": {
        "id": "view-in-github",
        "colab_type": "text"
      },
      "source": [
        "<a href=\"https://colab.research.google.com/github/RafalDoroz/ai/blob/main/tr/uzycie_modelu.ipynb\" target=\"_parent\"><img src=\"https://colab.research.google.com/assets/colab-badge.svg\" alt=\"Open In Colab\"/></a>"
      ]
    },
    {
      "cell_type": "code",
      "execution_count": null,
      "metadata": {
        "id": "OxY6YqAs_ZlU",
        "colab": {
          "base_uri": "https://localhost:8080/"
        },
        "outputId": "54f3b357-c9c3-4945-954a-c26c44570b4a"
      },
      "outputs": [
        {
          "output_type": "stream",
          "name": "stderr",
          "text": [
            "WARNING:absl:Compiled the loaded model, but the compiled metrics have yet to be built. `model.compile_metrics` will be empty until you train or evaluate the model.\n"
          ]
        },
        {
          "output_type": "stream",
          "name": "stdout",
          "text": [
            "\u001b[1m1/1\u001b[0m \u001b[32m━━━━━━━━━━━━━━━━━━━━\u001b[0m\u001b[37m\u001b[0m \u001b[1m2s\u001b[0m 2s/step   \n",
            "Przewidywana klasa: Pies\n"
          ]
        }
      ],
      "source": [
        "import tensorflow as tf\n",
        "import numpy as np\n",
        "from tensorflow.keras.preprocessing.image import load_img, img_to_array\n",
        "\n",
        "# Wczytanie zapisanego modelu\n",
        "model = tf.keras.models.load_model('cats_and_dogs_cnn_model.h5')\n",
        "\n",
        "# Funkcja do przewidywania klasy obrazu\n",
        "def predict_image(image_path, model):\n",
        "    # Wczytanie obrazu i jego przetwarzanie\n",
        "    img = load_img(image_path, target_size=(150, 150))  # Rozmiar musi być zgodny z modelem\n",
        "    img_array = img_to_array(img) / 255.0  # Normalizacja wartości pikseli\n",
        "    img_array = np.expand_dims(img_array, axis=0)  # Dodanie wymiaru batch\n",
        "\n",
        "    # Predykcja\n",
        "    prediction = model.predict(img_array)\n",
        "\n",
        "    # Interpretacja wyniku\n",
        "    if prediction[0] > 0.5:\n",
        "        return \"Pies\"\n",
        "    else:\n",
        "        return \"Kot\"\n",
        "\n",
        "# Testowanie modelu na nowym obrazie\n",
        "image_path = 'dog_68.jpg'  # Podaj ścieżkę do obrazu\n",
        "result = predict_image(image_path, model)\n",
        "print(f\"Przewidywana klasa: {result}\")\n"
      ]
    }
  ]
}