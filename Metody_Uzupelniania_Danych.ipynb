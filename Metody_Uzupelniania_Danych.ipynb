{
  "cells": [
    {
      "cell_type": "markdown",
      "metadata": {
        "id": "view-in-github",
        "colab_type": "text"
      },
      "source": [
        "<a href=\"https://colab.research.google.com/github/RafalDoroz/ai/blob/main/Metody_Uzupelniania_Danych.ipynb\" target=\"_parent\"><img src=\"https://colab.research.google.com/assets/colab-badge.svg\" alt=\"Open In Colab\"/></a>"
      ]
    },
    {
      "cell_type": "markdown",
      "metadata": {
        "id": "nzNoJEjBLFd7"
      },
      "source": [
        "# Metody uzupełniania brakujących danych\n",
        "W tym notebooku omówiono różne metody uzupełniania brakujących danych, z przykładami obliczeniowymi i implementacjami w Pythonie."
      ],
      "id": "nzNoJEjBLFd7"
    },
    {
      "cell_type": "markdown",
      "metadata": {
        "id": "QrTPcwYtLFeA"
      },
      "source": [
        "## 1. Usuwanie braków danych\n",
        "**Opis**:\n",
        "Usuwanie całych wierszy lub kolumn, w których znajdują się brakujące wartości.\n",
        "\n",
        "**Przykład obliczeniowy**:\n",
        "\n",
        "| A   | B   | C   |\n",
        "|-----|-----|-----|\n",
        "| 1   | 5   | 10  |\n",
        "| 2   | NaN | 11  |\n",
        "| NaN | 7   | 12  |\n",
        "| 4   | 8   | 13  |\n",
        "\n",
        "1. Usunięcie wierszy z brakami:\n",
        "| A   | B   | C   |\n",
        "|-----|-----|-----|\n",
        "| 1   | 5   | 10  |\n",
        "| 4   | 8   | 13  |\n",
        "\n",
        "2. Usunięcie kolumn z brakami:\n",
        "| C   |\n",
        "|-----|\n",
        "| 10  |\n",
        "| 11  |\n",
        "| 12  |\n",
        "| 13  |"
      ],
      "id": "QrTPcwYtLFeA"
    },
    {
      "cell_type": "code",
      "execution_count": 1,
      "metadata": {
        "colab": {
          "base_uri": "https://localhost:8080/"
        },
        "id": "vFfdhl1YLFeB",
        "outputId": "f9bc8d9c-3b3c-43dd-8eb8-0c5734d478b6"
      },
      "outputs": [
        {
          "output_type": "stream",
          "name": "stdout",
          "text": [
            "Po usunięciu wierszy z brakami:\n",
            "      A    B   C\n",
            "0  1.0  5.0  10\n",
            "3  4.0  8.0  13\n",
            "Po usunięciu kolumn z brakami:\n",
            "     C\n",
            "0  10\n",
            "1  11\n",
            "2  12\n",
            "3  13\n"
          ]
        }
      ],
      "source": [
        "import pandas as pd\n",
        "import numpy as np\n",
        "\n",
        "# Tworzenie przykładowych danych\n",
        "data = {'A': [1, 2, np.nan, 4],\n",
        "        'B': [5, np.nan, 7, 8],\n",
        "        'C': [10, 11, 12, 13]}\n",
        "df = pd.DataFrame(data)\n",
        "\n",
        "# Usuwanie wierszy z brakami\n",
        "df_dropped_rows = df.dropna()\n",
        "print(\"Po usunięciu wierszy z brakami:\\n\", df_dropped_rows)\n",
        "\n",
        "# Usuwanie kolumn z brakami\n",
        "df_dropped_columns = df.dropna(axis=1)\n",
        "print(\"Po usunięciu kolumn z brakami:\\n\", df_dropped_columns)"
      ],
      "id": "vFfdhl1YLFeB"
    },
    {
      "cell_type": "markdown",
      "metadata": {
        "id": "GBSlcYj0LFeD"
      },
      "source": [
        "## 2. Uzupełnianie stałą wartością\n",
        "**Opis**:\n",
        "Uzupełnianie braków jedną ustaloną wartością, np. średnią, medianą, modą lub wartością stałą.\n",
        "\n",
        "**Przykład obliczeniowy**:\n",
        "\n",
        "| A   | B   | C   |\n",
        "|-----|-----|-----|\n",
        "| 1   | 5   | 10  |\n",
        "| 2   | NaN | 11  |\n",
        "| NaN | 7   | 12  |\n",
        "| 4   | 8   | 13  |\n",
        "\n",
        "1. Średnia dla A: \\( \\frac{1 + 2 + 4}{3} = 2.33 \\)\n",
        "2. Wynik po uzupełnieniu średnią:\n",
        "\n",
        "| A    | B     | C   |\n",
        "|------|-------|-----|\n",
        "| 1.00 | 5.00  | 10  |\n",
        "| 2.00 | 6.67  | 11  |\n",
        "| 2.33 | 7.00  | 12  |\n",
        "| 4.00 | 8.00  | 13  |"
      ],
      "id": "GBSlcYj0LFeD"
    },
    {
      "cell_type": "code",
      "execution_count": 2,
      "metadata": {
        "colab": {
          "base_uri": "https://localhost:8080/"
        },
        "id": "C5E0SvEfLFeE",
        "outputId": "b765d95e-8cfc-4ea4-b534-b7b8998ea710"
      },
      "outputs": [
        {
          "output_type": "stream",
          "name": "stdout",
          "text": [
            "Po uzupełnieniu średnią:\n",
            "           A         B   C\n",
            "0  1.000000  5.000000  10\n",
            "1  2.000000  6.666667  11\n",
            "2  2.333333  7.000000  12\n",
            "3  4.000000  8.000000  13\n",
            "Po uzupełnieniu medianą:\n",
            "      A    B   C\n",
            "0  1.0  5.0  10\n",
            "1  2.0  7.0  11\n",
            "2  2.0  7.0  12\n",
            "3  4.0  8.0  13\n",
            "Po uzupełnieniu zerami:\n",
            "      A    B   C\n",
            "0  1.0  5.0  10\n",
            "1  2.0  0.0  11\n",
            "2  0.0  7.0  12\n",
            "3  4.0  8.0  13\n"
          ]
        }
      ],
      "source": [
        "# Uzupełnianie braków średnią\n",
        "df_filled_mean = df.fillna(df.mean())\n",
        "print(\"Po uzupełnieniu średnią:\\n\", df_filled_mean)\n",
        "\n",
        "# Uzupełnianie medianą\n",
        "df_filled_median = df.fillna(df.median())\n",
        "print(\"Po uzupełnieniu medianą:\\n\", df_filled_median)\n",
        "\n",
        "# Uzupełnianie zerami\n",
        "df_filled_zero = df.fillna(0)\n",
        "print(\"Po uzupełnieniu zerami:\\n\", df_filled_zero)"
      ],
      "id": "C5E0SvEfLFeE"
    },
    {
      "cell_type": "markdown",
      "metadata": {
        "id": "TfSbiHqbLFeE"
      },
      "source": [
        "## 3. Interpolacja\n",
        "**Opis**:\n",
        "Uzupełnianie braków na podstawie sąsiednich wartości.\n",
        "\n",
        "**Przykład obliczeniowy**:\n",
        "\n",
        "| A   |\n",
        "|-----|\n",
        "| 1   |\n",
        "| NaN |\n",
        "| 3   |\n",
        "| NaN |\n",
        "| 5   |\n",
        "\n",
        "Interpolacja liniowa:\n",
        "| A   |\n",
        "|-----|\n",
        "| 1   |\n",
        "| 2   |\n",
        "| 3   |\n",
        "| 4   |\n",
        "| 5   |"
      ],
      "id": "TfSbiHqbLFeE"
    },
    {
      "cell_type": "code",
      "execution_count": 3,
      "metadata": {
        "colab": {
          "base_uri": "https://localhost:8080/"
        },
        "id": "1hAKzu44LFeF",
        "outputId": "4f8d4a4f-be8a-404e-96ba-37f948702997"
      },
      "outputs": [
        {
          "output_type": "stream",
          "name": "stdout",
          "text": [
            "Po interpolacji liniowej:\n",
            "      A    B   C\n",
            "0  1.0  5.0  10\n",
            "1  2.0  6.0  11\n",
            "2  3.0  7.0  12\n",
            "3  4.0  8.0  13\n",
            "Po interpolacji wielomianowej:\n",
            "      A    B   C\n",
            "0  1.0  5.0  10\n",
            "1  2.0  6.0  11\n",
            "2  3.0  7.0  12\n",
            "3  4.0  8.0  13\n"
          ]
        }
      ],
      "source": [
        "# Interpolacja liniowa\n",
        "df_interpolated = df.interpolate(method='linear')\n",
        "print(\"Po interpolacji liniowej:\\n\", df_interpolated)\n",
        "\n",
        "# Interpolacja wielomianowa\n",
        "df_interpolated_poly = df.interpolate(method='polynomial', order=2)\n",
        "print(\"Po interpolacji wielomianowej:\\n\", df_interpolated_poly)"
      ],
      "id": "1hAKzu44LFeF"
    },
    {
      "cell_type": "markdown",
      "metadata": {
        "id": "zTxCntu2LFeF"
      },
      "source": [
        "## 4. Algorytm kNN\n",
        "**Opis**:\n",
        "Wykorzystuje sąsiedztwo brakującej wartości, obliczając średnią wartości sąsiadów.\n",
        "\n",
        "**Przykład obliczeniowy**:\n",
        "\n",
        "| A   | B   | C   |\n",
        "|-----|-----|-----|\n",
        "| 1   | 5   | 10  |\n",
        "| 2   | NaN | 11  |\n",
        "| NaN | 7   | 12  |\n",
        "| 4   | 8   | 13  |\n",
        "\n",
        "1. Dla brakującej wartości w A_3:\n",
        "   - Najbliżsi sąsiedzi: A_1 = 1, A_4 = 4\n",
        "   - Średnia: \\( \\frac{1 + 4}{2} = 2.5 \\)"
      ],
      "id": "zTxCntu2LFeF"
    },
    {
      "cell_type": "code",
      "execution_count": 4,
      "metadata": {
        "colab": {
          "base_uri": "https://localhost:8080/"
        },
        "id": "gLJyCHTJLFeG",
        "outputId": "adfcf52a-34ef-4606-bf5f-eb1cd69e7c72"
      },
      "outputs": [
        {
          "output_type": "stream",
          "name": "stdout",
          "text": [
            "Po uzupełnieniu metodą kNN:\n",
            "      A    B     C\n",
            "0  1.0  5.0  10.0\n",
            "1  2.0  6.0  11.0\n",
            "2  3.0  7.0  12.0\n",
            "3  4.0  8.0  13.0\n"
          ]
        }
      ],
      "source": [
        "from sklearn.impute import KNNImputer\n",
        "\n",
        "# Uzupełnianie braków metodą kNN\n",
        "imputer_knn = KNNImputer(n_neighbors=2)\n",
        "df_knn = pd.DataFrame(imputer_knn.fit_transform(df), columns=df.columns)\n",
        "print(\"Po uzupełnieniu metodą kNN:\\n\", df_knn)"
      ],
      "id": "gLJyCHTJLFeG"
    },
    {
      "cell_type": "markdown",
      "metadata": {
        "id": "O1YjUxT-LFeH"
      },
      "source": [
        "## 5. Algorytm EM\n",
        "**Opis**:\n",
        "1. **Krok E (Expectation)**: Estymuje brakujące wartości na podstawie modelu rozkładu danych.\n",
        "2. **Krok M (Maximization)**: Aktualizuje model rozkładu danych na podstawie estymacji.\n",
        "\n",
        "**Przykład obliczeniowy**:\n",
        "\n",
        "| A   | B   |\n",
        "|-----|-----|\n",
        "| 1   | 5   |\n",
        "| 2   | NaN |\n",
        "| NaN | 8   |\n",
        "\n",
        "1. Krok E: Szacowanie braków (np. A_3 = 1.5, B_2 = 6.5).\n",
        "2. Krok M: Aktualizacja modelu rozkładu danych."
      ],
      "id": "O1YjUxT-LFeH"
    },
    {
      "cell_type": "code",
      "execution_count": 7,
      "metadata": {
        "colab": {
          "base_uri": "https://localhost:8080/"
        },
        "id": "RB7yitqkLFeH",
        "outputId": "ba6de4d0-74a5-4480-9ea0-30ba9e34f8b1"
      },
      "outputs": [
        {
          "output_type": "stream",
          "name": "stdout",
          "text": [
            "Collecting fancyimpute\n",
            "  Downloading fancyimpute-0.7.0.tar.gz (25 kB)\n",
            "  Preparing metadata (setup.py) ... \u001b[?25l\u001b[?25hdone\n",
            "Collecting knnimpute>=0.1.0 (from fancyimpute)\n",
            "  Downloading knnimpute-0.1.0.tar.gz (8.3 kB)\n",
            "  Preparing metadata (setup.py) ... \u001b[?25l\u001b[?25hdone\n",
            "Requirement already satisfied: scikit-learn>=0.24.2 in /usr/local/lib/python3.11/dist-packages (from fancyimpute) (1.6.0)\n",
            "Requirement already satisfied: cvxpy in /usr/local/lib/python3.11/dist-packages (from fancyimpute) (1.6.0)\n",
            "Requirement already satisfied: cvxopt in /usr/local/lib/python3.11/dist-packages (from fancyimpute) (1.3.2)\n",
            "Requirement already satisfied: pytest in /usr/local/lib/python3.11/dist-packages (from fancyimpute) (8.3.4)\n",
            "Collecting nose (from fancyimpute)\n",
            "  Downloading nose-1.3.7-py3-none-any.whl.metadata (1.7 kB)\n",
            "Requirement already satisfied: six in /usr/local/lib/python3.11/dist-packages (from knnimpute>=0.1.0->fancyimpute) (1.17.0)\n",
            "Requirement already satisfied: numpy>=1.10 in /usr/local/lib/python3.11/dist-packages (from knnimpute>=0.1.0->fancyimpute) (1.26.4)\n",
            "Requirement already satisfied: scipy>=1.6.0 in /usr/local/lib/python3.11/dist-packages (from scikit-learn>=0.24.2->fancyimpute) (1.13.1)\n",
            "Requirement already satisfied: joblib>=1.2.0 in /usr/local/lib/python3.11/dist-packages (from scikit-learn>=0.24.2->fancyimpute) (1.4.2)\n",
            "Requirement already satisfied: threadpoolctl>=3.1.0 in /usr/local/lib/python3.11/dist-packages (from scikit-learn>=0.24.2->fancyimpute) (3.5.0)\n",
            "Requirement already satisfied: osqp>=0.6.2 in /usr/local/lib/python3.11/dist-packages (from cvxpy->fancyimpute) (0.6.7.post3)\n",
            "Requirement already satisfied: clarabel>=0.5.0 in /usr/local/lib/python3.11/dist-packages (from cvxpy->fancyimpute) (0.9.0)\n",
            "Requirement already satisfied: scs>=3.2.4.post1 in /usr/local/lib/python3.11/dist-packages (from cvxpy->fancyimpute) (3.2.7.post2)\n",
            "Requirement already satisfied: iniconfig in /usr/local/lib/python3.11/dist-packages (from pytest->fancyimpute) (2.0.0)\n",
            "Requirement already satisfied: packaging in /usr/local/lib/python3.11/dist-packages (from pytest->fancyimpute) (24.2)\n",
            "Requirement already satisfied: pluggy<2,>=1.5 in /usr/local/lib/python3.11/dist-packages (from pytest->fancyimpute) (1.5.0)\n",
            "Requirement already satisfied: qdldl in /usr/local/lib/python3.11/dist-packages (from osqp>=0.6.2->cvxpy->fancyimpute) (0.1.7.post5)\n",
            "Downloading nose-1.3.7-py3-none-any.whl (154 kB)\n",
            "\u001b[?25l   \u001b[90m━━━━━━━━━━━━━━━━━━━━━━━━━━━━━━━━━━━━━━━━\u001b[0m \u001b[32m0.0/154.7 kB\u001b[0m \u001b[31m?\u001b[0m eta \u001b[36m-:--:--\u001b[0m\r\u001b[2K   \u001b[90m━━━━━━━━━━━━━━━━━━━━━━━━━━━━━━━━━━━━━━━━\u001b[0m \u001b[32m154.7/154.7 kB\u001b[0m \u001b[31m13.2 MB/s\u001b[0m eta \u001b[36m0:00:00\u001b[0m\n",
            "\u001b[?25hBuilding wheels for collected packages: fancyimpute, knnimpute\n",
            "  Building wheel for fancyimpute (setup.py) ... \u001b[?25l\u001b[?25hdone\n",
            "  Created wheel for fancyimpute: filename=fancyimpute-0.7.0-py3-none-any.whl size=29879 sha256=f91dd1b662360a13ac9b1e4d0cf38ad686fd402b8edde9e21077b027606d6a7b\n",
            "  Stored in directory: /root/.cache/pip/wheels/1a/f3/a1/f7f10b5ae2c2459398762a3fcf4ac18c325311c7e3163d5a15\n",
            "  Building wheel for knnimpute (setup.py) ... \u001b[?25l\u001b[?25hdone\n",
            "  Created wheel for knnimpute: filename=knnimpute-0.1.0-py3-none-any.whl size=11329 sha256=3e928ee6f96401472801f66df53d1981b18aa9b2cd01f6a9949cb850fdd4882f\n",
            "  Stored in directory: /root/.cache/pip/wheels/ea/e8/e0/79872972161e54486517ae507f94b2c7cea27fb7ef793bd415\n",
            "Successfully built fancyimpute knnimpute\n",
            "Installing collected packages: nose, knnimpute, fancyimpute\n",
            "Successfully installed fancyimpute-0.7.0 knnimpute-0.1.0 nose-1.3.7\n",
            "Po uzupełnieniu metodą EM:\n",
            "      A    B     C\n",
            "0  1.0  5.0  10.0\n",
            "1  2.0  6.0  11.0\n",
            "2  3.0  7.0  12.0\n",
            "3  4.0  8.0  13.0\n"
          ]
        }
      ],
      "source": [
        "!pip install fancyimpute\n",
        "from fancyimpute import IterativeImputer\n",
        "\n",
        "# Uzupełnianie braków metodą EM\n",
        "imputer_em = IterativeImputer(max_iter=10, random_state=42)\n",
        "df_em = pd.DataFrame(imputer_em.fit_transform(df), columns=df.columns)\n",
        "print(\"Po uzupełnieniu metodą EM:\\n\", df_em)"
      ],
      "id": "RB7yitqkLFeH"
    }
  ],
  "metadata": {
    "kernelspec": {
      "display_name": "Python 3",
      "language": "python",
      "name": "python3"
    },
    "language_info": {
      "codemirror_mode": {
        "name": "ipython",
        "version": 3
      },
      "file_extension": ".py",
      "mimetype": "text/x-python",
      "name": "python",
      "nbconvert_exporter": "python",
      "pygments_lexer": "ipython3",
      "version": "3.9.7"
    },
    "colab": {
      "provenance": [],
      "include_colab_link": true
    }
  },
  "nbformat": 4,
  "nbformat_minor": 5
}